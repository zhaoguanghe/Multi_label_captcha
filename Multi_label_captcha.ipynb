{
 "cells": [
  {
   "cell_type": "code",
   "execution_count": null,
   "metadata": {},
   "outputs": [],
   "source": [
    "#将数据集转为tfrecord\n",
    "import os\n",
    "\n",
    "train_captcha_dir = './baidu/'\n",
    "\n",
    "train_filenames = []\n",
    "train_labels = []\n",
    "\n",
    "for filename in os.listdir(train_captcha_dir):\n",
    "    train_filenames.append(train_captcha_dir + filename)     # 建立图片路径索引\n",
    "    train_labels.append(filename.split('_')[1].split('.')[0].encode('utf-8'))# 图片多标签"
   ]
  },
  {
   "cell_type": "code",
   "execution_count": null,
   "metadata": {},
   "outputs": [],
   "source": [
    "import tensorflow as tf\n",
    "\n",
    "# 图片转为TFRecord \n",
    "tfrecord_file = './captcha.tfrecords'\n",
    "\n",
    "with tf.io.TFRecordWriter(tfrecord_file) as writer:              # 准备 TFRecord 文件\n",
    "    for filename, label in zip(train_filenames, train_labels):\n",
    "        image = open(filename, 'rb').read()                       # 读取数据集图片到内存，image 为一个 Byte 类型的字符串\n",
    "        feature = {                                               # 建立 tf.train.Feature 字典\n",
    "            'image': tf.train.Feature(bytes_list=tf.train.BytesList(value=[image])),  # 图片是一个 Bytes 对象\n",
    "            'label': tf.train.Feature(bytes_list=tf.train.BytesList(value=[label]))   # 标签也是一个 Bytes 对象\n",
    "        }\n",
    "        example = tf.train.Example(features=tf.train.Features(feature=feature)) # 通过字典建立 Example\n",
    "        writer.write(example.SerializeToString())                 # 将Example序列化并写入 TFRecord 文件"
   ]
  },
  {
   "cell_type": "code",
   "execution_count": null,
   "metadata": {},
   "outputs": [],
   "source": [
    "# 获得数据集\n",
    "tfrecord_file = './captcha.tfrecords'\n",
    "raw_dataset = tf.data.TFRecordDataset(tfrecord_file)    # 读取 TFRecord 文件\n",
    "\n",
    "feature_description = {                                 # 定义Feature结构，告诉解码器每个Feature的类型是什么\n",
    "    'image': tf.io.FixedLenFeature([], tf.string),\n",
    "    'label': tf.io.FixedLenFeature([], tf.string)\n",
    "}\n",
    "\n",
    "def _parse_example(example_string):                    # 将 TFRecord 文件中的每一个序列化的 tf.train.Example 解码\n",
    "    feature_dict = tf.io.parse_single_example(example_string, feature_description)\n",
    "    feature_dict['image'] = tf.io.decode_jpeg(feature_dict['image'], channels=1)    # 解码JPEG图片\n",
    "    return feature_dict['image'], feature_dict['label']\n",
    "\n",
    "dataset = raw_dataset.map(_parse_example)"
   ]
  },
  {
   "cell_type": "code",
   "execution_count": null,
   "metadata": {},
   "outputs": [],
   "source": [
    "for data,label in dataset.shuffle(200).batch(200):#  打乱数据\n",
    "    x_train = data\n",
    "    y_train = label"
   ]
  },
  {
   "cell_type": "code",
   "execution_count": null,
   "metadata": {},
   "outputs": [],
   "source": [
    "import numpy as np\n",
    "\n",
    "x_train = tf.cast(x_train,tf.float32)/255.0 #归一化\n",
    "y_onehot = [[],[],[],[]] #shape(4，batch, 36)\n",
    "\n",
    "for item in y_train:\n",
    "    nums = []\n",
    "    chars = str(item.numpy(),'utf-8')#bytes转字符串\n",
    "    for char in chars:\n",
    "        if ord(char) > 60:\n",
    "            nums.append(ord(char)-87) #字符转ascii码(0:48,A:65,a:97),并排序为0-35\n",
    "        else:\n",
    "            nums.append(ord(char)-48)\n",
    "   \n",
    "    for i,char in enumerate(nums):\n",
    "        y_onehot[i].append(tf.one_hot(char, 36).numpy())# 0-35转onehot\n",
    "\n",
    "y_onehot = tf.cast(y_onehot, tf.int32)\n",
    "y_label = [np.array(item) for item in y_onehot]"
   ]
  },
  {
   "cell_type": "code",
   "execution_count": null,
   "metadata": {},
   "outputs": [],
   "source": [
    "# 定义网络结构\n",
    "from tensorflow import keras\n",
    "from tensorflow.keras import layers\n",
    "\n",
    "n_class=36\n",
    "n_len=4\n",
    "width=80\n",
    "height=40\n",
    "\n",
    "# 创建一个输入节点\n",
    "img_inputs = keras.Input(shape=(height, width, 1), name='img')\n",
    "x = img_inputs\n",
    "# 定义多层，创建CNN网络，卷积两次池化一次，循环5次后拉伸，输出n_len个分类\n",
    "for i, n_cnn in enumerate([2, 2, 2, 2, 2]):\n",
    "    for j in range(n_cnn):\n",
    "        x = layers.Conv2D(32*2**min(i, 3), kernel_size=3, padding='same', kernel_initializer='he_uniform')(x)\n",
    "        x = layers.BatchNormalization()(x)\n",
    "        x = layers.Activation('relu')(x)\n",
    "    x = layers.MaxPooling2D(2)(x)\n",
    "\n",
    "x = layers.Flatten()(x)\n",
    "x = [layers.Dense(n_class, activation='softmax', name='c%d'%(i+1))(x) for i in range(n_len)]\n",
    "\n",
    "model = keras.Model(inputs=img_inputs, outputs=x, name='captcha_multilabel_class')# 通过在图层图中指定其输入和输出来创建一个model\n",
    "\n",
    "model.summary() # 查看模型摘要，需要模型built（实例化）后调用"
   ]
  },
  {
   "cell_type": "code",
   "execution_count": null,
   "metadata": {},
   "outputs": [],
   "source": [
    "# 训练模型\n",
    "from tensorflow.keras.callbacks import EarlyStopping, CSVLogger, ModelCheckpoint\n",
    "from tensorflow.keras.optimizers import *\n",
    "\n",
    "callbacks = [EarlyStopping(patience=3), CSVLogger('./captcha.csv'),\n",
    "             ModelCheckpoint('./captcha.h5', save_best_only=True)]\n",
    "\n",
    "model.compile(loss='categorical_crossentropy', optimizer=Adam(1e-3, amsgrad=True), metrics=['accuracy'])\n",
    "\n",
    "model.fit(x_train, y_label, epochs=20, callbacks=callbacks, batch_size=10)"
   ]
  },
  {
   "cell_type": "code",
   "execution_count": null,
   "metadata": {},
   "outputs": [],
   "source": [
    "# 预测\n",
    "import string\n",
    "import cv2 as cv\n",
    "\n",
    "characters = string.digits + string.ascii_lowercase\n",
    "#print(characters)\n",
    "\n",
    "# y，独热编码\n",
    "def decode(y):\n",
    "    y = np.argmax(np.array(y), axis=2)[:,0]\n",
    "    return ''.join([characters[x] for x in y])\n",
    "\n",
    "x_test = tf.reshape(x_train[0],[1,40,80,1])\n",
    "y_pred = model.predict(x_test)\n",
    "#print(decode(y_pred))\n",
    "\n",
    "# 显示(40,80,1)数组图片\n",
    "cv.imshow(str(decode(y_pred)), x_train[0].numpy())\n",
    "cv.waitKey(0)\n",
    "cv.destroyAllWindows()"
   ]
  },
  {
   "cell_type": "code",
   "execution_count": null,
   "metadata": {},
   "outputs": [],
   "source": []
  }
 ],
 "metadata": {
  "kernelspec": {
   "display_name": "tensorflow2",
   "language": "python",
   "name": "tensorflow2"
  },
  "language_info": {
   "codemirror_mode": {
    "name": "ipython",
    "version": 3
   },
   "file_extension": ".py",
   "mimetype": "text/x-python",
   "name": "python",
   "nbconvert_exporter": "python",
   "pygments_lexer": "ipython3",
   "version": "3.7.5"
  }
 },
 "nbformat": 4,
 "nbformat_minor": 2
}
